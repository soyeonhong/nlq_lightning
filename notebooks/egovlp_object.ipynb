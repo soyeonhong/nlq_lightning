{
 "cells": [
  {
   "cell_type": "code",
   "execution_count": 42,
   "metadata": {},
   "outputs": [],
   "source": [
    "import json\n",
    "import terminaltables\n",
    "import numpy as np\n",
    "import pandas as pd\n",
    "import torch\n",
    "\n",
    "import matplotlib.pyplot as plt\n",
    "\n",
    "from sklearn.manifold import TSNE\n",
    "from pathlib import Path\n",
    "from pprint import pformat\n",
    "from decord import VideoReader\n",
    "from PIL import Image, ImageDraw\n",
    "from IPython.display import Image as IPImage\n",
    "from collections import Counter\n",
    "from tqdm import tqdm"
   ]
  },
  {
   "cell_type": "code",
   "execution_count": 43,
   "metadata": {},
   "outputs": [],
   "source": [
    "p_val_pred = Path('/data/soyeonhong/GroundVQA/VLG_OpenQA_val.json')\n",
    "p_train_ann = Path('/data/soyeonhong/GroundVQA/data/unified/annotations.NLQ_train.json')\n",
    "\n",
    "p_train_pred = Path('/data/soyeonhong/GroundVQA/VLG_OpenQA_train.json')    \n",
    "p_val_pred = Path('/data/soyeonhong/GroundVQA/VLG_OpenQA_val.json')\n",
    "p_train_ann = Path('/data/soyeonhong/GroundVQA/data/unified/annotations.NLQ_train.json')\n",
    "p_val_ann = Path('/data/soyeonhong/GroundVQA/data/unified/annotations.NLQ_val.json')\n",
    "p_clips_dir = Path('/data/datasets/ego4d_data/v2/clips_320p-non_official')\n",
    "p_object_dir = Path('/data/soyeonhong/universal-ner/NLQ-query-uniner-extracted-object/query_uniner_outputs')\n",
    "p_action_dir = Path('/data/soyeonhong/universal-ner/NLQ-query-uniner-extracted-action/query_uniner_outputs')\n",
    "\n",
    "all_train_preds = json.loads(p_train_pred.read_text())\n",
    "all_val_preds = json.loads(p_val_pred.read_text())\n",
    "all_train_anns = json.loads(p_train_ann.read_text())\n",
    "all_val_anns = json.loads(p_val_ann.read_text())"
   ]
  },
  {
   "cell_type": "code",
   "execution_count": 44,
   "metadata": {},
   "outputs": [],
   "source": [
    "def process_predictions_and_annotations(all_preds, all_anns, p_object_dir, p_action_dir):\n",
    "\n",
    "    quid2pred, quid2info, quid2template = {}, {}, {}\n",
    "    quid2object, quid2action, quid2ann = {}, {}, {}\n",
    "\n",
    "    # Process predictions\n",
    "    for pred in all_preds:\n",
    "        quid = pred['query_id']\n",
    "        \n",
    "        quid2pred[quid] = pred['pred_window']\n",
    "        quid2info[quid] = pred['gt_window']\n",
    "        \n",
    "        if pred['gt_window']['template'] is not None:\n",
    "            quid2template[quid] = pred['gt_window']['template']\n",
    "        else:\n",
    "            quid2template[quid] = 'No Template'\n",
    "        \n",
    "        p_object_json = p_object_dir / f'{quid}.json'\n",
    "        p_action_json = p_action_dir / f'{quid}.json'\n",
    "        \n",
    "        obj = json.loads(p_object_json.read_text())[0]['entities']['values']\n",
    "        action = json.loads(p_action_json.read_text())[0]['entities']['values']\n",
    "        \n",
    "        quid2object[quid] = obj\n",
    "        quid2action[quid] = action\n",
    "\n",
    "    # Process annotations\n",
    "    for ann in all_anns:\n",
    "        quid = ann['sample_id']\n",
    "        quid2ann[quid] = ann\n",
    "    \n",
    "    return quid2pred, quid2info, quid2template, quid2object, quid2action, quid2ann\n"
   ]
  },
  {
   "cell_type": "code",
   "execution_count": 45,
   "metadata": {},
   "outputs": [],
   "source": [
    "val_quid2pred, val_quid2info, val_quid2template, val_quid2object, val_quid2action, val_quid2ann = process_predictions_and_annotations(all_val_preds, all_val_anns, p_object_dir, p_action_dir)"
   ]
  },
  {
   "cell_type": "code",
   "execution_count": 46,
   "metadata": {},
   "outputs": [],
   "source": [
    "train_quid2pred, train_quid2info, train_quid2template, train_quid2object, train_quid2action, train_quid2ann = process_predictions_and_annotations(all_train_preds, all_train_anns, p_object_dir, p_action_dir)"
   ]
  },
  {
   "cell_type": "code",
   "execution_count": 47,
   "metadata": {},
   "outputs": [],
   "source": [
    "from collections import Counter\n",
    "import pandas as pd\n",
    "\n",
    "def get_object_counts(quid2object):\n",
    "    obj_all = []\n",
    "\n",
    "    # Collect all non-empty objects\n",
    "    for key in quid2object.keys():\n",
    "        for obj in quid2object[key]:\n",
    "            if obj:  # Check if object is not an empty string\n",
    "                obj_all.append(obj)\n",
    "\n",
    "    # Count occurrences of each object\n",
    "    obj_count = Counter(obj_all)\n",
    "\n",
    "    # Configure pandas to display full column width\n",
    "    pd.set_option('display.max_colwidth', None)\n",
    "\n",
    "    # Create DataFrame from the object counts dictionary\n",
    "    df = pd.DataFrame.from_dict(obj_count, orient='index').reset_index()\n",
    "    df.columns = ['object', 'count']\n",
    "\n",
    "    # Sort DataFrame by count in descending order\n",
    "    df = df.sort_values(by='count', ascending=False)\n",
    "    \n",
    "    obj_set = set(obj_all)\n",
    "\n",
    "    return df, obj_count, obj_set\n",
    "\n",
    "train_df_obj, train_obj_count, train_obj_set = get_object_counts(train_quid2object)\n",
    "val_df_obj, val_obj_count, val_obj_set = get_object_counts(val_quid2object)"
   ]
  },
  {
   "cell_type": "code",
   "execution_count": 7,
   "metadata": {},
   "outputs": [
    {
     "name": "stderr",
     "output_type": "stream",
     "text": [
      "/data/soyeonhong/anaconda3/envs/groundvqa/lib/python3.9/site-packages/tqdm/auto.py:21: TqdmWarning: IProgress not found. Please update jupyter and ipywidgets. See https://ipywidgets.readthedocs.io/en/stable/user_install.html\n",
      "  from .autonotebook import tqdm as notebook_tqdm\n",
      "/data/soyeonhong/anaconda3/envs/groundvqa/lib/python3.9/site-packages/huggingface_hub/file_download.py:1132: FutureWarning: `resume_download` is deprecated and will be removed in version 1.0.0. Downloads always resume when possible. If you want to force a new download, use `force_download=True`.\n",
      "  warnings.warn(\n"
     ]
    },
    {
     "name": "stdout",
     "output_type": "stream",
     "text": [
      "######USING ATTENTION STYLE:  frozen-in-time\n",
      "### loaded SpaceTimeTransformer model has FEWER frames than current...### loading weights, filling in the extras via zeros\n"
     ]
    },
    {
     "name": "stderr",
     "output_type": "stream",
     "text": [
      "/data/soyeonhong/anaconda3/envs/groundvqa/lib/python3.9/site-packages/huggingface_hub/file_download.py:1132: FutureWarning: `resume_download` is deprecated and will be removed in version 1.0.0. Downloads always resume when possible. If you want to force a new download, use `force_download=True`.\n",
      "  warnings.warn(\n"
     ]
    }
   ],
   "source": [
    "import sys\n",
    "sys.path.append('/data/soyeonhong/ego4d/EgoVLP')\n",
    "\n",
    "from transformers import AutoTokenizer\n",
    "from model.model import FrozenInTime\n",
    "\n",
    "num_frames = 32\n",
    "video_params =  {\n",
    "    \"model\": \"SpaceTimeTransformer\",\n",
    "    \"arch_config\": \"base_patch16_224\",\n",
    "    \"num_frames\": num_frames,\n",
    "    \"pretrained\": True,\n",
    "    \"time_init\": \"zeros\"}\n",
    "    \n",
    "text_params = {\n",
    "    \"model\": \"distilbert-base-uncased\",\n",
    "    \"pretrained\": True,\n",
    "    \"input\": \"text\"}\n",
    "\n",
    "model = FrozenInTime(video_params, \n",
    "                     text_params,\n",
    "                     load_checkpoint=\"/data/soyeonhong/ego4d/EgoVLP/pretrained/egovlp.pth\")\n",
    "\n",
    "model = model.eval()\n",
    "\n",
    "tokenizer = AutoTokenizer.from_pretrained(text_params['model'])"
   ]
  },
  {
   "cell_type": "code",
   "execution_count": 10,
   "metadata": {},
   "outputs": [
    {
     "name": "stderr",
     "output_type": "stream",
     "text": [
      "100%|██████████| 1834/1834 [00:28<00:00, 63.93it/s]\n"
     ]
    }
   ],
   "source": [
    "obj_outputs = []\n",
    "with torch.no_grad():\n",
    "    for obj in tqdm(list(val_obj_count.keys())):\n",
    "        tokens = tokenizer(obj, return_tensors='pt', padding='max_length', max_length=32, truncation=True)\n",
    "        outputs = model.compute_text(tokens)\n",
    "        obj_outputs.append(outputs)\n",
    "        \n",
    "obj_outputs = torch.cat(obj_outputs, dim=0)"
   ]
  },
  {
   "cell_type": "code",
   "execution_count": null,
   "metadata": {},
   "outputs": [],
   "source": [
    "obj_dict = {}\n",
    "\n",
    "for obj in standard_obj:\n",
    "    obj_dict[obj] = []\n",
    "    \n",
    "with torch.no_grad():\n",
    "    for not_st_obj in not_standard_obj:\n",
    "        obj_token = tokenizer(not_st_obj, return_tensors='pt', padding='max_length', max_length=32, truncation=True)\n",
    "        obj_output = model.compute_text(obj_token)\n",
    "        \n",
    "        top_sim = None\n",
    "        top_obj = None\n",
    "\n",
    "        for st_obj in standard_obj:\n",
    "            st_obj_token = tokenizer(st_obj, return_tensors='pt', padding='max_length', max_length=32, truncation=True)\n",
    "            st_obj_output = model.compute_text(st_obj_token)\n",
    "            \n",
    "            sim = torch.nn.functional.cosine_similarity(obj_output, st_obj_output, dim=1)\n",
    "            \n",
    "            if top_sim is None or sim > top_sim:\n",
    "                top_sim = sim\n",
    "                top_obj = st_obj\n",
    "                \n",
    "        print(not_st_obj, top_obj)\n",
    "        obj_dict[top_obj].append(not_st_obj)\n",
    "        \n",
    "# save json\n",
    "with open('obj_dict.json', 'w') as f:\n",
    "    json.dump(obj_dict, f)"
   ]
  },
  {
   "cell_type": "code",
   "execution_count": 32,
   "metadata": {},
   "outputs": [
    {
     "name": "stdout",
     "output_type": "stream",
     "text": [
      "Object: drill\n",
      "Similarity: 0.408\n",
      "\n"
     ]
    }
   ],
   "source": [
    "test_obj = not_standard_obj[0] # fire gun\n",
    "test_obj_token = tokenizer(test_obj, return_tensors='pt', padding='max_length', max_length=32, truncation=True)\n",
    "test_obj_output = model.compute_text(test_obj_token)\n",
    "\n",
    "top_sim = None\n",
    "top_obj = None\n",
    "with torch.no_grad():\n",
    "    for obj in standard_obj:\n",
    "        token = tokenizer(obj, return_tensors='pt', padding='max_length', max_length=32, truncation=True)\n",
    "        output = model.compute_text(token)\n",
    "        # similarity\n",
    "        sim = torch.nn.functional.cosine_similarity(test_obj_output, output)\n",
    "        \n",
    "        if top_sim is None or sim > top_sim:\n",
    "            top_sim = sim\n",
    "            top_obj = obj\n",
    "        \n",
    "        \n",
    "print(f\"Object: {top_obj}\")\n",
    "print(f\"Similarity: {round(top_sim.item(), 3)}\\n\")"
   ]
  },
  {
   "cell_type": "code",
   "execution_count": 1,
   "metadata": {},
   "outputs": [
    {
     "name": "stderr",
     "output_type": "stream",
     "text": [
      "/data/soyeonhong/anaconda3/envs/groundvqa/lib/python3.9/site-packages/tqdm/auto.py:21: TqdmWarning: IProgress not found. Please update jupyter and ipywidgets. See https://ipywidgets.readthedocs.io/en/stable/user_install.html\n",
      "  from .autonotebook import tqdm as notebook_tqdm\n",
      "/data/soyeonhong/anaconda3/envs/groundvqa/lib/python3.9/site-packages/timm/models/layers/__init__.py:48: FutureWarning: Importing from timm.models.layers is deprecated, please import via timm.layers\n",
      "  warnings.warn(f\"Importing from {__name__} is deprecated, please import via timm.layers\", FutureWarning)\n"
     ]
    }
   ],
   "source": [
    "import sys\n",
    "\n",
    "sys.path.append('/data/soyeonhong/nlq/nlq_lightning')\n",
    "\n",
    "from model.ours.egovlp.model import TextOnlyFrozenInTime\n",
    "from pathlib import Path\n",
    "import random\n",
    "import json\n",
    "from pprint import pprint\n",
    "import torch\n",
    "\n",
    "import seaborn as sns\n",
    "import matplotlib.pyplot as plt\n",
    "import numpy as np"
   ]
  },
  {
   "cell_type": "code",
   "execution_count": 2,
   "metadata": {},
   "outputs": [
    {
     "name": "stderr",
     "output_type": "stream",
     "text": [
      "/data/soyeonhong/anaconda3/envs/groundvqa/lib/python3.9/site-packages/huggingface_hub/file_download.py:1150: FutureWarning: `resume_download` is deprecated and will be removed in version 1.0.0. Downloads always resume when possible. If you want to force a new download, use `force_download=True`.\n",
      "  warnings.warn(\n",
      "/data/soyeonhong/anaconda3/envs/groundvqa/lib/python3.9/site-packages/huggingface_hub/file_download.py:1150: FutureWarning: `resume_download` is deprecated and will be removed in version 1.0.0. Downloads always resume when possible. If you want to force a new download, use `force_download=True`.\n",
      "  warnings.warn(\n"
     ]
    }
   ],
   "source": [
    "model = TextOnlyFrozenInTime(ckpt_path=\"/data/soyeonhong/nlq/nlq_lightning/data/egovlp-config-removed.pth\")\n",
    "tokenizer = model.tokenizer"
   ]
  },
  {
   "cell_type": "code",
   "execution_count": 6,
   "metadata": {},
   "outputs": [],
   "source": [
    "tmp = ['dog', 'cat', 'bird', 'fish', 'elephant', 'giraffe', 'lion', 'tiger', 'bear', 'wolf']\n",
    "\n",
    "tok = tokenizer(tmp, return_tensors='pt', padding='max_length', max_length=32, truncation=True)\n",
    "feature = model(tok)"
   ]
  },
  {
   "cell_type": "code",
   "execution_count": 3,
   "metadata": {},
   "outputs": [
    {
     "name": "stdout",
     "output_type": "stream",
     "text": [
      "Index: 13718\n",
      "{'clip_duration': 480.0663474368489,\n",
      " 'clip_end_sec': 25.54104,\n",
      " 'clip_start_sec': 23.65826,\n",
      " 'entities': {'type': 'object', 'values': ['waste bin']},\n",
      " 'moment_end_frame': 766.2312,\n",
      " 'moment_start_frame': 709.7478,\n",
      " 'question': 'What did I put in the waste bin?',\n",
      " 'sample_id': '15656e66-3397-4870-9394-c403c09a284a_1',\n",
      " 'video_id': '2a777d63-baf2-4a8d-9392-5057ce06357f'}\n",
      "{'caption': 'In the image, I can see a person wearing a wristband with a '\n",
      "            'digital display, likely a smartwatch or fitness tracker, and they '\n",
      "            'appear to be in a domestic setting with a focus on their arm and '\n",
      "            'hand. The person is indoors, and there are various elements of '\n",
      "            \"the room's interior design visible, such as a door, a cabinet, \"\n",
      "            'and a tiled floor. The person is also wearing a tattoo on their '\n",
      "            \"arm, and there's another person partially visible in the \"\n",
      "            'foreground, suggesting they might be interacting with the person '\n",
      "            'wearing the wristband. The room has a casual and lived-in feel, '\n",
      "            \"with natural light coming in from a doorway, indicating it's \"\n",
      "            'daytime.',\n",
      " 'end': 2.0,\n",
      " 'entities': {'type': 'object',\n",
      "              'values': ['wristband',\n",
      "                         'digital display',\n",
      "                         'smartwatch',\n",
      "                         'fitness tracker',\n",
      "                         'arm',\n",
      "                         'hand',\n",
      "                         'room',\n",
      "                         'door',\n",
      "                         'cabinet',\n",
      "                         'tiled floor',\n",
      "                         'tattoo',\n",
      "                         'person',\n",
      "                         'natural light',\n",
      "                         'doorway']},\n",
      " 'start': 0.0}\n"
     ]
    }
   ],
   "source": [
    "p_ann = Path('/data/soyeonhong/nlq/nlq_lightning/data/unified/annotations.NLQ_train_object.json')\n",
    "anns = json.loads(p_ann.read_text())\n",
    "\n",
    "idx = random.randint(0, len(anns) - 1)\n",
    "\n",
    "p_env_root = Path('/data/soyeonhong/nlq/nlq_lightning/universal-ner/LLaVA-NeXT-Video-7B-DPO-uniner-extracted/version-1')\n",
    "p_env_data = p_env_root / f'{anns[idx][\"video_id\"]}.json'\n",
    "env_datas = json.loads(p_env_data.read_text())\n",
    "\n",
    "ann = anns[idx]\n",
    "print(f\"Index: {idx}\")\n",
    "pprint(ann)\n",
    "pprint(env_datas[0])\n",
    "\n",
    "obj_list = []\n",
    "\n",
    "for env_data in env_datas:\n",
    "    obj_list.append(env_data['entities']['values'])"
   ]
  },
  {
   "cell_type": "code",
   "execution_count": 42,
   "metadata": {},
   "outputs": [
    {
     "data": {
      "image/png": "[encoded data removed]",
      "text/plain": [
       "<Figure size 1200x200 with 2 Axes>"
      ]
     },
     "metadata": {},
     "output_type": "display_data"
    }
   ],
   "source": [
    "idx = random.randint(0, len(anns) - 1)\n",
    "ann = anns[idx]\n",
    "query = ann['question']\n",
    "t_s = ann['clip_start_sec']\n",
    "t_e = ann['clip_end_sec']\n",
    "q_tok = tokenizer(query, return_tensors='pt', padding='max_length', max_length=32, truncation=True)\n",
    "q_out = model(q_tok)\n",
    "\n",
    "cap_sim_list = []\n",
    "obj_sim_list = []\n",
    "with torch.no_grad():\n",
    "    for env_data in env_datas:\n",
    "        obj_list = env_data['entities']['values']\n",
    "        cpation = env_data['caption']\n",
    "        \n",
    "        # print(f\"Caption: {cpation}\")\n",
    "        # print(f\"Objects: {obj_list}\\n\")\n",
    "        # print(f\"Time: {env_data['start']:.2f} ~ {env_data['end']:.2f}\")\n",
    "        cap_tok = tokenizer(cpation, return_tensors='pt', padding='max_length', max_length=32, truncation=True)\n",
    "        cap_out = model(cap_tok)\n",
    "        obj_tok = tokenizer(obj_list, return_tensors='pt', padding='max_length', max_length=32, truncation=True)\n",
    "        obj_out = model(obj_tok)\n",
    "\n",
    "        \n",
    "        cap_sim = torch.nn.functional.cosine_similarity(q_out, cap_out)\n",
    "        obj_sim = torch.nn.functional.cosine_similarity(q_out, obj_out)\n",
    "        \n",
    "        if obj_sim.shape[0] < 5:\n",
    "            topk = obj_sim\n",
    "        else:\n",
    "            topk = torch.topk(obj_sim, 5).values\n",
    "        \n",
    "        cap_sim_list.append(cap_sim.item())\n",
    "        obj_sim_list.append(topk.mean().item())\n",
    "        \n",
    "        # print(f\"Caption similarity: {round(cap_sim.item(), 3)}\")\n",
    "        # print(f\"Object similarity: {obj_sim.max()}\\n\")\n",
    "        \n",
    "obj_sim_list = np.array(obj_sim_list).reshape(1, -1)\n",
    "plt.figure(figsize=(12, 2))\n",
    "plt.imshow(obj_sim_list, aspect='auto', cmap='viridis')\n",
    "plt.colorbar(label='Similarity')\n",
    "plt.title(f'Query: {query}\\nTime: {t_s:.2f} ~ {t_e:.2f}', fontsize=9)\n",
    "\n",
    "plt.xticks(np.arange(0, len(obj_sim_list[0]), 10))\n",
    "plt.yticks([])  # Remove y-axis ticks for a cleaner look\n",
    "plt.xlabel('Time (s)')\n",
    "plt.show()"
   ]
  },
  {
   "cell_type": "code",
   "execution_count": null,
   "metadata": {},
   "outputs": [],
   "source": []
  }
 ],
 "metadata": {
  "kernelspec": {
   "display_name": "Python 3 (ipykernel)",
   "language": "python",
   "name": "python3"
  },
  "language_info": {
   "codemirror_mode": {
    "name": "ipython",
    "version": 3
   },
   "file_extension": ".py",
   "mimetype": "text/x-python",
   "name": "python",
   "nbconvert_exporter": "python",
   "pygments_lexer": "ipython3",
   "version": "3.9.20"
  }
 },
 "nbformat": 4,
 "nbformat_minor": 2
}
