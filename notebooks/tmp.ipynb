{
 "cells": [
  {
   "cell_type": "code",
   "execution_count": 1,
   "metadata": {},
   "outputs": [
    {
     "name": "stdout",
     "output_type": "stream",
     "text": [
      "49 600\n"
     ]
    }
   ],
   "source": [
    "from pathlib import Path\n",
    "import json\n",
    "import torch\n",
    "p_llava = Path('/data/soyeonhong/nlq/nlq_lightning/universal-ner/LLaVA-NeXT-Video-7B-DPO-uniner-extracted/version-1')\n",
    "\n",
    "max_obj_in_caption = -1\n",
    "max_caption_length = -1\n",
    "caption_length = []\n",
    "obj_in_caption = []\n",
    "for p in p_llava.glob('**/*.json'):\n",
    "    env_datas = json.loads(p.read_text())\n",
    "    \n",
    "    if len(env_datas) > max_caption_length:\n",
    "        max_caption_length = len(env_datas)\n",
    "    caption_length.append(len(env_datas))\n",
    "    \n",
    "    for env_data in env_datas:\n",
    "        if len(env_data['entities']['values']) > max_obj_in_caption:\n",
    "            max_obj_in_caption = len(env_data['entities']['values'])\n",
    "            obj_in_caption.append(len(env_data['entities']['values']))\n",
    "            \n",
    "print(max_obj_in_caption, max_caption_length)"
   ]
  },
  {
   "cell_type": "code",
   "execution_count": 2,
   "metadata": {},
   "outputs": [
    {
     "data": {
      "text/plain": [
       "(243.1973840665874,\n",
       " 79.47102340060066,\n",
       " 240,\n",
       " 30.142857142857142,\n",
       " 9.738415409802437,\n",
       " 15)"
      ]
     },
     "execution_count": 2,
     "metadata": {},
     "output_type": "execute_result"
    }
   ],
   "source": [
    "import numpy as np\n",
    "np.mean(caption_length), np.std(caption_length), np.bincount(caption_length).argmax(), np.mean(obj_in_caption), np.std(obj_in_caption), np.bincount(obj_in_caption).argmax()"
   ]
  },
  {
   "cell_type": "code",
   "execution_count": 5,
   "metadata": {},
   "outputs": [
    {
     "data": {
      "text/plain": [
       "(array([3., 3., 4., 2., 2.]),\n",
       " array([15. , 21.8, 28.6, 35.4, 42.2, 49. ]),\n",
       " <BarContainer object of 5 artists>)"
      ]
     },
     "execution_count": 5,
     "metadata": {},
     "output_type": "execute_result"
    },
    {
     "data": {
      "image/png": "[encoded data removed]",
      "text/plain": [
       "<Figure size 640x480 with 1 Axes>"
      ]
     },
     "metadata": {},
     "output_type": "display_data"
    }
   ],
   "source": [
    "# plot obj_in_caption by using histogram\n",
    "import matplotlib.pyplot as plt\n",
    "plt.hist(obj_in_caption, bins='auto')"
   ]
  },
  {
   "cell_type": "code",
   "execution_count": 8,
   "metadata": {},
   "outputs": [
    {
     "data": {
      "text/plain": [
       "array([   0,    0,    0,    0,    0,    0,    0,    0,    0,    0,    0,\n",
       "          0,    0,    0,    0,    0,    0,    0,    0,    0,    0,    0,\n",
       "          0,    0,    0,    0,    0,    0,    1,    0,    0,    0,    1,\n",
       "          0,    1,    0,    3,    0,    0,    0,    0,    0,    0,    0,\n",
       "          0,    3,    0,    1,    0,    0,    0,    0,    1,    0,    0,\n",
       "          0,    0,    0,    0,    0,    0,    0,    0,    0,    0,    0,\n",
       "          1,    0,    0,    0,    1,    0,    0,    0,    0,    0,    1,\n",
       "          0,    0,    0,    0,    5,    1,    0,    0,    0,    0,    0,\n",
       "          0,    0,    0,    0,    0,    0,    0,    0,    0,    0,    0,\n",
       "          0,    0,    0,    0,    1,    0,    0,    0,    0,    1,    1,\n",
       "          3,    0,    1,    2,    1,    1,    1,    0,    2,    1,    4,\n",
       "          0,    1,    0,    2,    2,    4,    0,    2,    1,    1,    0,\n",
       "          1,    1,    1,    1,    1,    1,    1,    1,    3,    0,    1,\n",
       "          0,    0,    0,    0,    2,    1,    1,   18,    1,    0,    0,\n",
       "          0,    1,    1,    3,    0,    0,    0,    0,    2,    0,    3,\n",
       "          0,    1,    0,    1,    0,    0,    4,    0,    1,    1,    0,\n",
       "          0,    0,    0,    0,   22,    1,    6,    2,    2,    7,    2,\n",
       "          3,    4,    3,    1,    2,    2,    2,    6,    4,    4,    1,\n",
       "          4,    2,    2,    3,    1,    3,    9,    2,    1,    3,    3,\n",
       "          4,    5,    3,    2,    3,   11,    2,    9,    1,    1,    2,\n",
       "          6,   10,    2,    3,    2,    8,    4,    2,    3,    4,    3,\n",
       "          2,    0,    3,    3,    4,    2,    0,    1,   13, 1280,    0,\n",
       "          0,    0,    0,    0,    0,    0,    0,    0,    0,    0,    0,\n",
       "          0,    0,    0,    1,    0,    0,    0,    0,    0,    0,    0,\n",
       "          0,    0,    0,    0,    0,    0,    0,    1,    0,    0,    0,\n",
       "          0,    0,    0,    0,    0,    0,    0,    0,    0,    0,    0,\n",
       "          0,    0,    0,    0,    0,    0,    0,    0,    0,    0,    0,\n",
       "          0,    0,    0,    0,    0,    0,    0,    0,    0,    0,    0,\n",
       "          0,    0,    0,    0,    0,    0,    0,    0,    0,    0,    0,\n",
       "          0,    0,    0,    0,    0,    0,    0,    0,    0,    0,    0,\n",
       "          0,    0,    0,    0,    0,    0,    0,    0,    0,    0,    0,\n",
       "          0,    0,    0,    0,    0,    0,    0,    0,    0,    0,    0,\n",
       "          0,    0,    0,    0,    0,    0,    0,    0,    0,    0,    0,\n",
       "          0,    0,    0,    0,    0,    0,    0,    0,    0,    0,    0,\n",
       "          0,    0,    0,    0,    0,    0,    0,    0,    0,    0,    0,\n",
       "          0,    0,    0,    0,    0,    0,    0,    0,    0,    0,    0,\n",
       "          0,    0,    0,    0,    0,    0,    0,    0,    0,    0,    0,\n",
       "          0,    0,    0,    0,    0,    0,    0,    0,    0,    0,    0,\n",
       "          0,    0,    0,    0,    0,    0,    0,    0,    0,    0,    0,\n",
       "          0,    0,    0,    0,    0,    0,    0,    0,    0,    0,    0,\n",
       "          0,    0,    0,    0,    0,    0,    0,    0,    0,    0,    0,\n",
       "          0,    0,    0,    0,    0,    0,    0,    1,    0,    0,    0,\n",
       "          0,    0,    0,    0,    0,    0,    0,    0,    1,    0,    0,\n",
       "          0,    0,    0,    0,    0,    0,    0,    0,    0,    0,    0,\n",
       "          0,    0,    0,    0,    0,    0,    0,    0,    0,    0,    0,\n",
       "          0,    0,    0,    0,    0,    0,    0,    0,    0,    0,    0,\n",
       "          0,    0,    0,    0,    0,    0,    0,    0,    0,    0,    0,\n",
       "          0,    0,    0,    0,    0,    0,    0,    0,    0,    0,    0,\n",
       "          0,    0,    0,    0,    0,    0,    0,    0,    0,    0,    0,\n",
       "          0,    0,    0,    0,    0,    0,    0,    0,    0,    0,    0,\n",
       "          0,    0,    1,    0,    0,    0,    0,    1,    0,    0,    0,\n",
       "          0,    0,    0,    0,    0,    0,    0,    1,    0,    0,    0,\n",
       "          0,    0,    0,    0,    2,    0,    1,    0,    0,    0,    1,\n",
       "          0,    0,    0,    0,    0,    0,    0,    0,    0,    0,    0,\n",
       "          0,    0,    0,    1,    0,    0,   60])"
      ]
     },
     "execution_count": 8,
     "metadata": {},
     "output_type": "execute_result"
    }
   ],
   "source": [
    "np.bincount(caption_length)"
   ]
  },
  {
   "cell_type": "code",
   "execution_count": 2,
   "metadata": {},
   "outputs": [],
   "source": [
    "p_llava = Path('/data/soyeonhong/nlq/nlq_lightning/universal-ner/LLaVA-NeXT-Video-7B-DPO-uniner-extracted/version-1')\n",
    "\n",
    "max_obj_in_caption = -1\n",
    "max_caption_length = -1\n",
    "caption_length = []\n",
    "obj_in_caption = []\n",
    "for p in p_llava.glob('**/*.json'):\n",
    "    env_datas = json.loads(p.read_text())\n",
    "    \n",
    "    obj_list = []\n",
    "    for env_data in env_datas:\n",
    "        obj_list.append(env_data['entities']['values'])\n",
    "        \n",
    "    if len(obj_list) < 240:\n",
    "        obj_list.extend([['']] * (240 - len(obj_list)))\n",
    "    elif len(obj_list) > 240:\n",
    "        sample_idx = torch.linspace(0, len(obj_list)-1, 240).long()\n",
    "        obj_list = [obj_list[i] for i in sample_idx]\n",
    "        \n",
    "\n",
    "    if len(obj_list) != 240:\n",
    "        print(len(obj_list))\n",
    "    \n",
    "    \n",
    "    \n",
    "    "
   ]
  },
  {
   "cell_type": "code",
   "execution_count": null,
   "metadata": {},
   "outputs": [],
   "source": []
  }
 ],
 "metadata": {
  "kernelspec": {
   "display_name": "groundvqa",
   "language": "python",
   "name": "python3"
  },
  "language_info": {
   "codemirror_mode": {
    "name": "ipython",
    "version": 3
   },
   "file_extension": ".py",
   "mimetype": "text/x-python",
   "name": "python",
   "nbconvert_exporter": "python",
   "pygments_lexer": "ipython3",
   "version": "3.12.7"
  }
 },
 "nbformat": 4,
 "nbformat_minor": 2
}
