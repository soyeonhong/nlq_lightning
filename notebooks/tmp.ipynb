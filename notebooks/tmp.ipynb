{
 "cells": [
  {
   "cell_type": "code",
   "execution_count": 1,
   "metadata": {},
   "outputs": [
    {
     "ename": "FileNotFoundError",
     "evalue": "[Errno 2] No such file or directory: '/data/soyeonhong/nlq/nlq_lightning/NLQ-query-uniner-extracted-object/NLQ-query-uniner-extracted-object.json'",
     "output_type": "error",
     "traceback": [
      "\u001b[0;31m---------------------------------------------------------------------------\u001b[0m",
      "\u001b[0;31mFileNotFoundError\u001b[0m                         Traceback (most recent call last)",
      "Cell \u001b[0;32mIn[1], line 7\u001b[0m\n\u001b[1;32m      5\u001b[0m p_ann_train \u001b[38;5;241m=\u001b[39m Path(\u001b[38;5;124m\"\u001b[39m\u001b[38;5;124m/data/soyeonhong/nlq/nlq_lightning/data/unified/annotations.NLQ_train.json\u001b[39m\u001b[38;5;124m\"\u001b[39m)\n\u001b[1;32m      6\u001b[0m p_ann_val \u001b[38;5;241m=\u001b[39m Path(\u001b[38;5;124m\"\u001b[39m\u001b[38;5;124m/data/soyeonhong/nlq/nlq_lightning/data/unified/annotations.NLQ_val.json\u001b[39m\u001b[38;5;124m\"\u001b[39m)\n\u001b[0;32m----> 7\u001b[0m anns \u001b[38;5;241m=\u001b[39m json\u001b[38;5;241m.\u001b[39mloads(\u001b[43mp_ann\u001b[49m\u001b[38;5;241;43m.\u001b[39;49m\u001b[43mread_text\u001b[49m\u001b[43m(\u001b[49m\u001b[43m)\u001b[49m)\n\u001b[1;32m      8\u001b[0m ann_train \u001b[38;5;241m=\u001b[39m json\u001b[38;5;241m.\u001b[39mloads(p_ann_train\u001b[38;5;241m.\u001b[39mread_text())\n\u001b[1;32m      9\u001b[0m ann_val \u001b[38;5;241m=\u001b[39m json\u001b[38;5;241m.\u001b[39mloads(p_ann_val\u001b[38;5;241m.\u001b[39mread_text())\n",
      "File \u001b[0;32m/data/soyeonhong/anaconda3/envs/nlq-lit/lib/python3.12/pathlib.py:1027\u001b[0m, in \u001b[0;36mPath.read_text\u001b[0;34m(self, encoding, errors)\u001b[0m\n\u001b[1;32m   1023\u001b[0m \u001b[38;5;250m\u001b[39m\u001b[38;5;124;03m\"\"\"\u001b[39;00m\n\u001b[1;32m   1024\u001b[0m \u001b[38;5;124;03mOpen the file in text mode, read it, and close the file.\u001b[39;00m\n\u001b[1;32m   1025\u001b[0m \u001b[38;5;124;03m\"\"\"\u001b[39;00m\n\u001b[1;32m   1026\u001b[0m encoding \u001b[38;5;241m=\u001b[39m io\u001b[38;5;241m.\u001b[39mtext_encoding(encoding)\n\u001b[0;32m-> 1027\u001b[0m \u001b[38;5;28;01mwith\u001b[39;00m \u001b[38;5;28;43mself\u001b[39;49m\u001b[38;5;241;43m.\u001b[39;49m\u001b[43mopen\u001b[49m\u001b[43m(\u001b[49m\u001b[43mmode\u001b[49m\u001b[38;5;241;43m=\u001b[39;49m\u001b[38;5;124;43m'\u001b[39;49m\u001b[38;5;124;43mr\u001b[39;49m\u001b[38;5;124;43m'\u001b[39;49m\u001b[43m,\u001b[49m\u001b[43m \u001b[49m\u001b[43mencoding\u001b[49m\u001b[38;5;241;43m=\u001b[39;49m\u001b[43mencoding\u001b[49m\u001b[43m,\u001b[49m\u001b[43m \u001b[49m\u001b[43merrors\u001b[49m\u001b[38;5;241;43m=\u001b[39;49m\u001b[43merrors\u001b[49m\u001b[43m)\u001b[49m \u001b[38;5;28;01mas\u001b[39;00m f:\n\u001b[1;32m   1028\u001b[0m     \u001b[38;5;28;01mreturn\u001b[39;00m f\u001b[38;5;241m.\u001b[39mread()\n",
      "File \u001b[0;32m/data/soyeonhong/anaconda3/envs/nlq-lit/lib/python3.12/pathlib.py:1013\u001b[0m, in \u001b[0;36mPath.open\u001b[0;34m(self, mode, buffering, encoding, errors, newline)\u001b[0m\n\u001b[1;32m   1011\u001b[0m \u001b[38;5;28;01mif\u001b[39;00m \u001b[38;5;124m\"\u001b[39m\u001b[38;5;124mb\u001b[39m\u001b[38;5;124m\"\u001b[39m \u001b[38;5;129;01mnot\u001b[39;00m \u001b[38;5;129;01min\u001b[39;00m mode:\n\u001b[1;32m   1012\u001b[0m     encoding \u001b[38;5;241m=\u001b[39m io\u001b[38;5;241m.\u001b[39mtext_encoding(encoding)\n\u001b[0;32m-> 1013\u001b[0m \u001b[38;5;28;01mreturn\u001b[39;00m \u001b[43mio\u001b[49m\u001b[38;5;241;43m.\u001b[39;49m\u001b[43mopen\u001b[49m\u001b[43m(\u001b[49m\u001b[38;5;28;43mself\u001b[39;49m\u001b[43m,\u001b[49m\u001b[43m \u001b[49m\u001b[43mmode\u001b[49m\u001b[43m,\u001b[49m\u001b[43m \u001b[49m\u001b[43mbuffering\u001b[49m\u001b[43m,\u001b[49m\u001b[43m \u001b[49m\u001b[43mencoding\u001b[49m\u001b[43m,\u001b[49m\u001b[43m \u001b[49m\u001b[43merrors\u001b[49m\u001b[43m,\u001b[49m\u001b[43m \u001b[49m\u001b[43mnewline\u001b[49m\u001b[43m)\u001b[49m\n",
      "\u001b[0;31mFileNotFoundError\u001b[0m: [Errno 2] No such file or directory: '/data/soyeonhong/nlq/nlq_lightning/NLQ-query-uniner-extracted-object/NLQ-query-uniner-extracted-object.json'"
     ]
    }
   ],
   "source": [
    "from pathlib import Path\n",
    "import json \n",
    "\n",
    "p_ann = Path(\"/data/soyeonhong/nlq/nlq_lightning/NLQ-query-uniner-extracted-object/NLQ-query-uniner-extracted-object.json\")\n",
    "p_ann_train = Path(\"/data/soyeonhong/nlq/nlq_lightning/data/unified/annotations.NLQ_train.json\")\n",
    "p_ann_val = Path(\"/data/soyeonhong/nlq/nlq_lightning/data/unified/annotations.NLQ_val.json\")\n",
    "anns = json.loads(p_ann.read_text())\n",
    "ann_train = json.loads(p_ann_train.read_text())\n",
    "ann_val = json.loads(p_ann_val.read_text())\n",
    "\n",
    "len(anns), len(ann_train), len(ann_val)\n"
   ]
  },
  {
   "cell_type": "code",
   "execution_count": 8,
   "metadata": {},
   "outputs": [
    {
     "data": {
      "text/plain": [
       "{'query': 'Where did I saw fruits?',\n",
       " 'query_id': '40dbe5c4-67f1-47fa-bf10-0c4462668c74_5',\n",
       " 'start': 388.62356,\n",
       " 'end': 389.759,\n",
       " 'clip_uid': '708787f2-2e7f-4988-8cea-e280eec35f3f',\n",
       " 'template': 'Place: Where did I put X?',\n",
       " 'entities': {'type': 'object', 'values': ['fruits']}}"
      ]
     },
     "execution_count": 8,
     "metadata": {},
     "output_type": "execute_result"
    }
   ],
   "source": [
    "anns[0]"
   ]
  },
  {
   "cell_type": "code",
   "execution_count": 12,
   "metadata": {},
   "outputs": [
    {
     "data": {
      "text/plain": [
       "1685578"
      ]
     },
     "execution_count": 12,
     "metadata": {},
     "output_type": "execute_result"
    }
   ],
   "source": [
    "new_data = []\n",
    "for ann_gt in ann_val:\n",
    "    for ann in anns:\n",
    "        if ann_gt['sample_id'] == ann['query_id']:\n",
    "            ann_gt['entities'] = ann['entities']\n",
    "            new_data.append(ann_gt)\n",
    "            \n",
    "p_new = Path(\"/data/soyeonhong/nlq/nlq_lightning/data/unified/annotations.NLQ_val_object.json\")\n",
    "p_new.write_text(json.dumps(new_data))"
   ]
  },
  {
   "cell_type": "code",
   "execution_count": 3,
   "metadata": {},
   "outputs": [],
   "source": [
    "p_llava = Path(\"/data/soyeonhong/llm/universal-ner/LLaVA-NeXT-Video-7B-DPO-uniner-extracted/version-1\")\n",
    "file_lists = list(p_llava.glob(\"*.json\"))\n",
    "\n",
    "\n",
    "obj_all = []\n",
    "\n",
    "for file in file_lists:\n",
    "    results = json.loads(file.read_text())\n",
    "    for result in results:\n",
    "        objs = result['entities']['values']\n",
    "        \n",
    "        for obj in objs:\n",
    "            if not obj in obj_all and obj != \"\":    \n",
    "                obj_all.append(obj)\n"
   ]
  },
  {
   "cell_type": "code",
   "execution_count": 8,
   "metadata": {},
   "outputs": [],
   "source": [
    "for ann in anns:\n",
    "    objs = ann['entities']['values']\n",
    "    \n",
    "    for obj in objs:\n",
    "        if not obj in obj_all and obj != \"\":\n",
    "            obj_all.append(obj)"
   ]
  },
  {
   "cell_type": "code",
   "execution_count": 9,
   "metadata": {},
   "outputs": [
    {
     "data": {
      "text/plain": [
       "1469867"
      ]
     },
     "execution_count": 9,
     "metadata": {},
     "output_type": "execute_result"
    }
   ],
   "source": [
    "\n",
    "p_obj = Path(\"/data/soyeonhong/nlq/nlq_lightning/data/unified/objects.json\")\n",
    "p_obj.write_text(json.dumps(obj_all))"
   ]
  },
  {
   "cell_type": "code",
   "execution_count": 9,
   "metadata": {},
   "outputs": [
    {
     "data": {
      "text/plain": [
       "'clothing'"
      ]
     },
     "execution_count": 9,
     "metadata": {},
     "output_type": "execute_result"
    }
   ],
   "source": [
    "from pathlib import Path \n",
    "import json\n",
    "\n",
    "p_ann = Path(\"/data/soyeonhong/nlq/nlq_lightning/data/unified/annotations.NLQ_train.json\")\n",
    "anns = json.loads(p_ann.read_text())\n",
    "time_per_v_feat = 0.53\n",
    "slice_int = 10\n",
    "\n",
    "for ann in anns:\n",
    "    obj_list = []\n",
    "    obj_count = []\n",
    "    clip_duration = ann['clip_duration']\n",
    "    start_time = ann['clip_start_sec']\n",
    "    end_time = ann['clip_end_sec']\n",
    "    \n",
    "    p_env_data = Path('/data/soyeonhong/nlq/nlq_lightning/universal-ner/LLaVA-NeXT-Video-7B-DPO-uniner-extracted/version-1') / f\"{ann['video_id']}.json\"\n",
    "    if p_env_data.exists():\n",
    "        env_datas = json.loads(p_env_data.read_text())\n",
    "        \n",
    "        for env_data in env_datas:\n",
    "            if start_time <= env_data['start'] <= end_time:\n",
    "                obj_list.extend(env_data['entities']['values'])\n",
    "        obj_list = list(set(obj_list))\n",
    "        obj_count.append(len(obj_list))\n"
   ]
  },
  {
   "cell_type": "code",
   "execution_count": 10,
   "metadata": {},
   "outputs": [
    {
     "data": {
      "text/plain": [
       "25"
      ]
     },
     "execution_count": 10,
     "metadata": {},
     "output_type": "execute_result"
    }
   ],
   "source": [
    "min(obj_count)"
   ]
  },
  {
   "cell_type": "code",
   "execution_count": null,
   "metadata": {},
   "outputs": [],
   "source": []
  }
 ],
 "metadata": {
  "kernelspec": {
   "display_name": "groundvqa",
   "language": "python",
   "name": "python3"
  },
  "language_info": {
   "codemirror_mode": {
    "name": "ipython",
    "version": 3
   },
   "file_extension": ".py",
   "mimetype": "text/x-python",
   "name": "python",
   "nbconvert_exporter": "python",
   "pygments_lexer": "ipython3",
   "version": "3.12.7"
  }
 },
 "nbformat": 4,
 "nbformat_minor": 2
}
