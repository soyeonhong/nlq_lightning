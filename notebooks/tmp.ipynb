{
 "cells": [
  {
   "cell_type": "code",
   "execution_count": 8,
   "metadata": {},
   "outputs": [],
   "source": [
    "from pathlib import Path\n",
    "import json \n",
    "\n",
    "p_ann = Path('/data/soyeonhong/nlq/nlq_lightning/data/unified/annotations.NLQ_train_object.json')\n",
    "anns = json.loads(p_ann.read_text())\n",
    "\n",
    "for ann in anns:\n",
    "    obj_lists = []\n",
    "    query_objs = ann['entities']['values']\n",
    "    \n",
    "    if len(query_objs) == 0:\n",
    "        print(len(query_objs))\n",
    "    # for obj in query_objs:\n",
    "    #     if not obj == '':\n",
    "    #         obj_lists.append(obj)\n",
    "    \n",
    "        \n",
    "    # print(f\"query: {ann['question']}\")\n",
    "    # print(f\"obj_lists: {obj_lists}, len: {len(obj_lists)}\\n\")"
   ]
  },
  {
   "cell_type": "code",
   "execution_count": null,
   "metadata": {},
   "outputs": [],
   "source": []
  }
 ],
 "metadata": {
  "kernelspec": {
   "display_name": "groundvqa",
   "language": "python",
   "name": "python3"
  },
  "language_info": {
   "codemirror_mode": {
    "name": "ipython",
    "version": 3
   },
   "file_extension": ".py",
   "mimetype": "text/x-python",
   "name": "python",
   "nbconvert_exporter": "python",
   "pygments_lexer": "ipython3",
   "version": "3.9.20"
  }
 },
 "nbformat": 4,
 "nbformat_minor": 2
}
